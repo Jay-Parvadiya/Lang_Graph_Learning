{
 "cells": [
  {
   "cell_type": "code",
   "execution_count": null,
   "id": "5ddb2eeb",
   "metadata": {},
   "outputs": [
    {
     "data": {
      "text/plain": [
       "False"
      ]
     },
     "execution_count": 3,
     "metadata": {},
     "output_type": "execute_result"
    }
   ],
   "source": [
    "from langgraph.graph import StateGraph, START, END\n",
    "from langchain_openai import ChatOpenAI\n",
    "from typing import TypedDict\n",
    "from dotenv import load_dotenv\n",
    "\n",
    "load_dotenv()\n"
   ]
  },
  {
   "cell_type": "code",
   "execution_count": 6,
   "id": "ec790f4b",
   "metadata": {},
   "outputs": [],
   "source": [
    "# model = ChatOpenAI() "
   ]
  },
  {
   "cell_type": "code",
   "execution_count": 7,
   "id": "d6e44cbd",
   "metadata": {},
   "outputs": [],
   "source": [
    "class LLMState(TypedDict):\n",
    "    question: str\n",
    "    answer:str"
   ]
  },
  {
   "cell_type": "code",
   "execution_count": null,
   "id": "e58b621c",
   "metadata": {},
   "outputs": [],
   "source": [
    "def llm_qa(state: LLMState) -> LLMState:\n",
    "    # Extract the question from state\n",
    "    question = state['question']\n",
    "\n",
    "    # form a prompt \n",
    "    prompt = f'Answer the following question {question}'\n",
    "\n",
    "    # Ask that quesation to LLM\n",
    "    answer = model.invoke(prompt).content\n",
    "\n",
    "    # Update the answer in the state\n",
    "    state['answer'] = answer\n",
    "\n",
    "    return state"
   ]
  },
  {
   "cell_type": "code",
   "execution_count": null,
   "id": "43e97994",
   "metadata": {},
   "outputs": [],
   "source": [
    "# Create graph\n",
    "graph = StateGraph(LLMState)\n",
    "\n",
    "# Add nodes\n",
    "graph.add_node('llm_qa', llm_qa)\n",
    "\n",
    "# Add edage\n",
    "graph.add_edge(START, 'llm_qa')\n",
    "graph.add_edag('llm_qa', END)\n",
    "\n",
    "# compile \n",
    "workflow = graph.invoke()"
   ]
  },
  {
   "cell_type": "code",
   "execution_count": null,
   "id": "2b9a9f50",
   "metadata": {},
   "outputs": [],
   "source": [
    "# Execute\n",
    "\n",
    "intial_state = {'question':'How far is moon from the earth?'}\n",
    "\n",
    "final_state = workflow.invoke(intial_state)\n",
    "\n",
    "print(final_state)"
   ]
  }
 ],
 "metadata": {
  "kernelspec": {
   "display_name": "LG",
   "language": "python",
   "name": "python3"
  },
  "language_info": {
   "codemirror_mode": {
    "name": "ipython",
    "version": 3
   },
   "file_extension": ".py",
   "mimetype": "text/x-python",
   "name": "python",
   "nbconvert_exporter": "python",
   "pygments_lexer": "ipython3",
   "version": "3.13.6"
  }
 },
 "nbformat": 4,
 "nbformat_minor": 5
}
