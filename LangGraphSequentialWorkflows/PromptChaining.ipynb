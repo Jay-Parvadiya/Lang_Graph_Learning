{
 "cells": [
  {
   "cell_type": "code",
   "execution_count": null,
   "id": "974ef3f5",
   "metadata": {},
   "outputs": [],
   "source": [
    "from langgraph.graph import StateGraph, START, END\n",
    "from langchain_openai import ChatOpenAI\n",
    "from typing import TypedDict\n",
    "from dotenv import load_dotenv\n",
    "\n",
    "load_dotenv()"
   ]
  },
  {
   "cell_type": "code",
   "execution_count": null,
   "id": "47403a35",
   "metadata": {},
   "outputs": [],
   "source": [
    "model = ChatOpenAI()\n"
   ]
  },
  {
   "cell_type": "code",
   "execution_count": null,
   "id": "58ad9c23",
   "metadata": {},
   "outputs": [],
   "source": [
    "class BlogState(TypedDict):\n",
    "    title :str\n",
    "    outline: str\n",
    "    content:str"
   ]
  },
  {
   "cell_type": "code",
   "execution_count": null,
   "id": "324a4ad1",
   "metadata": {},
   "outputs": [],
   "source": [
    "def create_outline(state:BlogState) -> BlogState:\n",
    "    title = state['title']\n",
    "\n",
    "    prompt = f'Generate a detailed outline for a blog on the topic - {title}'\n",
    "    outline = model.invoke(prompt).content\n",
    "\n",
    "    state['outline'] = outline\n",
    "\n",
    "    return state"
   ]
  },
  {
   "cell_type": "code",
   "execution_count": null,
   "id": "02487ea2",
   "metadata": {},
   "outputs": [],
   "source": [
    "def create_blog(state:BlogState) -> BlogState:\n",
    "    title = state['title']\n",
    "    outline = state['outline']\n",
    "\n",
    "    prompt = f'Write a detailed blog on the = {title} using the follwing outline \\n {outline}'\n",
    "\n",
    "    content = model.invoke(prompt).content\n",
    "\n",
    "    state['content']= content\n",
    "\n",
    "    return state"
   ]
  },
  {
   "cell_type": "code",
   "execution_count": null,
   "id": "e4614543",
   "metadata": {},
   "outputs": [],
   "source": [
    "graph = StateGraph(BlogState)\n",
    "\n",
    "graph.add_node('create_outline',create_outline)\n",
    "graph.add_node('create_outline',create_blog)\n",
    "\n",
    "graph.add_edge(START, 'create_outline')\n",
    "graph.add_edge('create_outline','create_blog')\n",
    "graph.add_edge('create_blog', END)\n",
    "\n",
    "workflow = graph.compile()"
   ]
  },
  {
   "cell_type": "code",
   "execution_count": null,
   "id": "d23e1a47",
   "metadata": {},
   "outputs": [],
   "source": [
    "inital_state={'title':'Rise of AI in india'}\n",
    "\n",
    "final_state = workflow.invoke(inital_state)\n",
    "\n",
    "print(final_state)"
   ]
  },
  {
   "cell_type": "code",
   "execution_count": null,
   "id": "449ca65e",
   "metadata": {},
   "outputs": [],
   "source": [
    "print(final_state['outline'])"
   ]
  },
  {
   "cell_type": "code",
   "execution_count": null,
   "id": "db60120c",
   "metadata": {},
   "outputs": [],
   "source": [
    "print(final_state['content'])"
   ]
  }
 ],
 "metadata": {
  "language_info": {
   "name": "python"
  }
 },
 "nbformat": 4,
 "nbformat_minor": 5
}
